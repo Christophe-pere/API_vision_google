{
 "cells": [
  {
   "cell_type": "markdown",
   "metadata": {},
   "source": [
    "<center><h1>OCR Google Vision API</h1></center>"
   ]
  },
  {
   "cell_type": "markdown",
   "metadata": {},
   "source": [
    "<h2>Introduction</h2>"
   ]
  },
  {
   "cell_type": "code",
   "execution_count": null,
   "metadata": {},
   "outputs": [],
   "source": [
    "!pip install google-cloud\n",
    "!pip install google-cloud-pubsub\n",
    "!pip install google-cloud-translate"
   ]
  },
  {
   "cell_type": "code",
   "execution_count": null,
   "metadata": {},
   "outputs": [],
   "source": [
    "from pdf2image import convert_from_path\n",
    "import glob\n",
    "from tqdm import tqdm\n",
    "import base64\n",
    "import json\n",
    "import os\n",
    "\n",
    "from google.cloud import pubsub_v1\n",
    "from google.cloud import storage\n",
    "from google.cloud import translate_v2 as translate\n",
    "from google.cloud import vision\n",
    "\n",
    "from google.oauth2 import service_account\n",
    "import googleapiclient.discovery\n",
    "\n",
    "tqdm().pandas()"
   ]
  },
  {
   "cell_type": "markdown",
   "metadata": {},
   "source": [
    "<h2>I - Convert PDF into JPEG</h2>"
   ]
  },
  {
   "cell_type": "code",
   "execution_count": null,
   "metadata": {},
   "outputs": [],
   "source": [
    "list_ = glob.glob(\"extract/*.pdf\")\n",
    "#list_= [\"extract/22453181.pdf\"]\n",
    "for i in list_[:1]:\n",
    "    print(i)\n",
    "    pages = convert_from_path(i, 500)\n",
    "    \n",
    "    for page in tqdm(enumerate(pages)):\n",
    "        \n",
    "        page[1].save(\"test_pdf_ocr/\"+i.split('/')[1].split('.')[0]+'_'+str(page[0])+'.jpg', 'JPEG')"
   ]
  },
  {
   "cell_type": "markdown",
   "metadata": {},
   "source": [
    "<h2>II - Set up credentials</h2>"
   ]
  },
  {
   "cell_type": "code",
   "execution_count": null,
   "metadata": {},
   "outputs": [],
   "source": [
    "SCOPES = ['https://www.googleapis.com/auth/cloud-vision']\n",
    "SERVICE_ACCOUNT_FILE = \"/opt/continuum/project/config/prod-datascience-dsp-267215-67e4faebee83.json\""
   ]
  },
  {
   "cell_type": "code",
   "execution_count": null,
   "metadata": {},
   "outputs": [],
   "source": [
    "credentials = service_account.Credentials.from_service_account_file(\n",
    "        SERVICE_ACCOUNT_FILE, scopes=SCOPES)"
   ]
  },
  {
   "cell_type": "code",
   "execution_count": null,
   "metadata": {},
   "outputs": [],
   "source": [
    "vision = googleapiclient.discovery.build('vision', 'v1', credentials=credentials)\n",
    "translate_client = translate.Client()\n",
    "publisher = pubsub_v1.PublisherClient()\n",
    "storage_client = storage.Client()"
   ]
  },
  {
   "cell_type": "markdown",
   "metadata": {},
   "source": [
    "<h2>III - API Vision request</h2>"
   ]
  },
  {
   "cell_type": "code",
   "execution_count": null,
   "metadata": {},
   "outputs": [],
   "source": [
    "def detect_text(path, credentials):\n",
    "    \"\"\"Detects text in the file.\"\"\"\n",
    "    from google.cloud import vision\n",
    "    import io\n",
    "    client = vision.ImageAnnotatorClient(credentials=credentials)\n",
    "\n",
    "    with io.open(path, 'rb') as image_file:\n",
    "        content = image_file.read()\n",
    "\n",
    "    image = vision.types.Image(content=content)\n",
    "\n",
    "    response = client.text_detection(image=image)\n",
    "    annotations = response.text_annotations\n",
    "    if len(annotations) > 0:\n",
    "        text = annotations[0].description\n",
    "    else:\n",
    "        text = ''\n",
    "    print('Extracted text {} from image ({} chars).'.format(text, len(text)))\n",
    "\n",
    "    detect_language_response = translate_client.detect_language(text)\n",
    "    src_lang = detect_language_response['language']\n",
    "    print('Detected language {} for text {}.'.format(src_lang, text))\n",
    "\n",
    "    # Submit a message to the bus for each target language\n",
    "    to_langs = os.environ['TO_LANG'].split(',')\n",
    "    for target_lang in to_langs:\n",
    "        topic_name = os.environ['TRANSLATE_TOPIC']\n",
    "        if src_lang == target_lang or src_lang == 'und':\n",
    "            topic_name = os.environ['RESULT_TOPIC']\n",
    "        message = {\n",
    "            'text': text,\n",
    "            'filename': filename,\n",
    "            'lang': target_lang,\n",
    "            'src_lang': src_lang\n",
    "        }\n",
    "        message_data = json.dumps(message).encode('utf-8')\n",
    "        topic_path = publisher.topic_path(project_id, topic_name)\n",
    "        future = publisher.publish(topic_path, data=message_data)\n",
    "        futures.append(future)\n",
    "    for future in futures:\n",
    "        future.result()\n",
    "    \n",
    "    \n",
    "    \n",
    "    \n",
    "    \n",
    "    '''texts = response.text_annotations\n",
    "    print('Texts:')\n",
    "    print(texts)\n",
    "    for text in texts:\n",
    "        print('\\n\"{}\"'.format(text.description))\n",
    "\n",
    "        vertices = (['({},{})'.format(vertex.x, vertex.y)\n",
    "                    for vertex in text.bounding_poly.vertices])\n",
    "\n",
    "        print('bounds: {}'.format(','.join(vertices)))'''\n",
    "    '''\n",
    "    if response.error.message:\n",
    "        raise Exception(\n",
    "            '{}\\nFor more info on error messages, check: '\n",
    "            'https://cloud.google.com/apis/design/errors'.format(\n",
    "                response.error.message))'''\n",
    "    return texts"
   ]
  },
  {
   "cell_type": "code",
   "execution_count": null,
   "metadata": {},
   "outputs": [],
   "source": [
    "# Call the function to extract text from jpeg image\n",
    "test = detect_text(\"test_pdf_ocr/22453181_0_.jpg\", credentials)"
   ]
  }
 ],
 "metadata": {
  "kernelspec": {
   "display_name": "Python 3",
   "language": "python",
   "name": "python3"
  },
  "language_info": {
   "codemirror_mode": {
    "name": "ipython",
    "version": 3
   },
   "file_extension": ".py",
   "mimetype": "text/x-python",
   "name": "python",
   "nbconvert_exporter": "python",
   "pygments_lexer": "ipython3",
   "version": "3.8.2"
  }
 },
 "nbformat": 4,
 "nbformat_minor": 4
}

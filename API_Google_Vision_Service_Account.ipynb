{
 "cells": [
  {
   "cell_type": "markdown",
   "metadata": {},
   "source": [
    "<center><h1>OCR Google Vision API</h1></center>"
   ]
  },
  {
   "cell_type": "markdown",
   "metadata": {},
   "source": [
    "<h2><a id=\"part_intro\">Introduction</a></h2>"
   ]
  },
  {
   "cell_type": "markdown",
   "metadata": {},
   "source": [
    "In the world of computer vision, one is very popular, Object Character Recognition (OCR). This method detects characters in a picture and translate them into text. This notebook will shows you how to use the OCR develop by Google and save the result of the detection in a text file."
   ]
  },
  {
   "cell_type": "markdown",
   "metadata": {},
   "source": [
    "<h2>Content</h2>"
   ]
  },
  {
   "cell_type": "markdown",
   "metadata": {},
   "source": [
    "- [Introduction](#part_intro)\n",
    "- [Packages](#part_packages)\n",
    "- [Parameters](#part_0)\n",
    "- [Convert PDF to JPEG](#part_1)\n",
    "- [Setup credentials](#part_2)\n",
    "- [API Vision request](#part_3)\n",
    "    - [Functions needed](#part_3_1)\n",
    "    - [Call OCR per page](#part_3_2)\n",
    "    - [Call OCR per document (stack de 10 pages)](#part_3_3)\n",
    "    - [Multiprocessing](#part_3_4)"
   ]
  },
  {
   "cell_type": "code",
   "execution_count": 1,
   "metadata": {
    "collapsed": true,
    "jupyter": {
     "outputs_hidden": true
    }
   },
   "outputs": [
    {
     "name": "stdout",
     "output_type": "stream",
     "text": [
      "/usr/bin/sh: warning: setlocale: LC_ALL: cannot change locale (en_US.UTF-8)\n",
      "/bin/sh: warning: setlocale: LC_ALL: cannot change locale (en_US.UTF-8)\n",
      "Collecting google-cloud\n",
      "  Downloading https://files.pythonhosted.org/packages/ba/b1/7c54d1950e7808df06642274e677dbcedba57f75307adf2e5ad8d39e5e0e/google_cloud-0.34.0-py2.py3-none-any.whl\n",
      "Installing collected packages: google-cloud\n",
      "Successfully installed google-cloud-0.34.0\n",
      "/usr/bin/sh: warning: setlocale: LC_ALL: cannot change locale (en_US.UTF-8)\n",
      "/bin/sh: warning: setlocale: LC_ALL: cannot change locale (en_US.UTF-8)\n",
      "Collecting google-cloud-storage\n",
      "\u001b[?25l  Downloading https://files.pythonhosted.org/packages/84/e3/41d109d50a55bb240f1c732ac05eef102db86efa178cf57b3b9d59dbd2fa/google_cloud_storage-1.30.0-py2.py3-none-any.whl (86kB)\n",
      "\u001b[K     |████████████████████████████████| 92kB 3.4MB/s \n",
      "\u001b[?25hCollecting google-auth<2.0dev,>=1.11.0 (from google-cloud-storage)\n",
      "\u001b[?25l  Downloading https://files.pythonhosted.org/packages/0f/79/4c59796bb02535aee5e5d2e2c5e16008aaf48903c2ec2ff566a2774bb3e0/google_auth-1.20.1-py2.py3-none-any.whl (91kB)\n",
      "\u001b[K     |████████████████████████████████| 92kB 8.3MB/s \n",
      "\u001b[?25hCollecting google-resumable-media<2.0dev,>=0.6.0 (from google-cloud-storage)\n",
      "\u001b[?25l  Downloading https://files.pythonhosted.org/packages/e9/8a/0c1653af6504dcf39c094585d760215f90c6a9d8491431372d684c885e45/google_resumable_media-0.7.1-py2.py3-none-any.whl (42kB)\n",
      "\u001b[K     |████████████████████████████████| 51kB 15.4MB/s \n",
      "\u001b[?25hCollecting google-cloud-core<2.0dev,>=1.2.0 (from google-cloud-storage)\n",
      "  Downloading https://files.pythonhosted.org/packages/a8/c8/9be9810356f62daea7e417164db6eb4b5f5edf087a9516fa4602de8b1924/google_cloud_core-1.4.1-py2.py3-none-any.whl\n",
      "Collecting cachetools<5.0,>=2.0.0 (from google-auth<2.0dev,>=1.11.0->google-cloud-storage)\n",
      "  Downloading https://files.pythonhosted.org/packages/cd/5c/f3aa86b6d5482f3051b433c7616668a9b96fbe49a622210e2c9781938a5c/cachetools-4.1.1-py3-none-any.whl\n",
      "Requirement already satisfied: six>=1.9.0 in /opt/continuum/anaconda/envs/anaconda201908_py37/lib/python3.7/site-packages (from google-auth<2.0dev,>=1.11.0->google-cloud-storage) (1.12.0)\n",
      "Collecting rsa<5,>=3.1.4; python_version >= \"3.5\" (from google-auth<2.0dev,>=1.11.0->google-cloud-storage)\n",
      "\u001b[?25l  Downloading https://files.pythonhosted.org/packages/1c/df/c3587a667d6b308fadc90b99e8bc8774788d033efcc70f4ecaae7fad144b/rsa-4.6-py3-none-any.whl (47kB)\n",
      "\u001b[K     |████████████████████████████████| 51kB 13.2MB/s \n",
      "\u001b[?25hRequirement already satisfied: setuptools>=40.3.0 in /opt/continuum/anaconda/envs/anaconda201908_py37/lib/python3.7/site-packages (from google-auth<2.0dev,>=1.11.0->google-cloud-storage) (41.2.0)\n",
      "Collecting pyasn1-modules>=0.2.1 (from google-auth<2.0dev,>=1.11.0->google-cloud-storage)\n",
      "\u001b[?25l  Downloading https://files.pythonhosted.org/packages/95/de/214830a981892a3e286c3794f41ae67a4495df1108c3da8a9f62159b9a9d/pyasn1_modules-0.2.8-py2.py3-none-any.whl (155kB)\n",
      "\u001b[K     |████████████████████████████████| 163kB 7.0MB/s \n",
      "\u001b[?25hCollecting google-crc32c<0.2dev,>=0.1.0; python_version >= \"3.5\" (from google-resumable-media<2.0dev,>=0.6.0->google-cloud-storage)\n",
      "  Downloading https://files.pythonhosted.org/packages/eb/e8/71bc8a58d2d14a03128e38ad6cae56c1f84dcfafcdc2e3ae34b5bf5fd7d8/google_crc32c-0.1.0-cp37-cp37m-manylinux2010_x86_64.whl\n",
      "Collecting google-api-core<2.0.0dev,>=1.19.0 (from google-cloud-core<2.0dev,>=1.2.0->google-cloud-storage)\n",
      "\u001b[?25l  Downloading https://files.pythonhosted.org/packages/e0/2d/7c6c75013105e1d2b6eaa1bf18a56995be1dbc673c38885aea31136e9918/google_api_core-1.22.1-py2.py3-none-any.whl (91kB)\n",
      "\u001b[K     |████████████████████████████████| 92kB 11.1MB/s \n",
      "\u001b[?25hCollecting pyasn1>=0.1.3 (from rsa<5,>=3.1.4; python_version >= \"3.5\"->google-auth<2.0dev,>=1.11.0->google-cloud-storage)\n",
      "\u001b[?25l  Downloading https://files.pythonhosted.org/packages/62/1e/a94a8d635fa3ce4cfc7f506003548d0a2447ae76fd5ca53932970fe3053f/pyasn1-0.4.8-py2.py3-none-any.whl (77kB)\n",
      "\u001b[K     |████████████████████████████████| 81kB 12.1MB/s \n",
      "\u001b[?25hRequirement already satisfied: cffi>=1.0.0 in /opt/continuum/anaconda/envs/anaconda201908_py37/lib/python3.7/site-packages (from google-crc32c<0.2dev,>=0.1.0; python_version >= \"3.5\"->google-resumable-media<2.0dev,>=0.6.0->google-cloud-storage) (1.12.3)\n",
      "Collecting protobuf>=3.12.0 (from google-api-core<2.0.0dev,>=1.19.0->google-cloud-core<2.0dev,>=1.2.0->google-cloud-storage)\n",
      "\u001b[?25l  Downloading https://files.pythonhosted.org/packages/71/dc/5ba56eab7440c62c5f808b4267e2a1d6c136e90293b43fefb1b493c6d704/protobuf-3.13.0-cp37-cp37m-manylinux1_x86_64.whl (1.3MB)\n",
      "\u001b[K     |████████████████████████████████| 1.3MB 7.4MB/s \n",
      "\u001b[?25hRequirement already satisfied: requests<3.0.0dev,>=2.18.0 in /opt/continuum/anaconda/envs/anaconda201908_py37/lib/python3.7/site-packages (from google-api-core<2.0.0dev,>=1.19.0->google-cloud-core<2.0dev,>=1.2.0->google-cloud-storage) (2.22.0)\n",
      "Requirement already satisfied: googleapis-common-protos<2.0dev,>=1.6.0 in /opt/continuum/anaconda/envs/anaconda201908_py37/lib/python3.7/site-packages (from google-api-core<2.0.0dev,>=1.19.0->google-cloud-core<2.0dev,>=1.2.0->google-cloud-storage) (1.51.0)\n",
      "Requirement already satisfied: pytz in /opt/continuum/anaconda/envs/anaconda201908_py37/lib/python3.7/site-packages (from google-api-core<2.0.0dev,>=1.19.0->google-cloud-core<2.0dev,>=1.2.0->google-cloud-storage) (2019.2)\n",
      "Requirement already satisfied: pycparser in /opt/continuum/anaconda/envs/anaconda201908_py37/lib/python3.7/site-packages (from cffi>=1.0.0->google-crc32c<0.2dev,>=0.1.0; python_version >= \"3.5\"->google-resumable-media<2.0dev,>=0.6.0->google-cloud-storage) (2.19)\n",
      "Requirement already satisfied: chardet<3.1.0,>=3.0.2 in /opt/continuum/anaconda/envs/anaconda201908_py37/lib/python3.7/site-packages (from requests<3.0.0dev,>=2.18.0->google-api-core<2.0.0dev,>=1.19.0->google-cloud-core<2.0dev,>=1.2.0->google-cloud-storage) (3.0.4)\n",
      "Requirement already satisfied: certifi>=2017.4.17 in /opt/continuum/anaconda/envs/anaconda201908_py37/lib/python3.7/site-packages (from requests<3.0.0dev,>=2.18.0->google-api-core<2.0.0dev,>=1.19.0->google-cloud-core<2.0dev,>=1.2.0->google-cloud-storage) (2020.4.5.1)\n",
      "Requirement already satisfied: idna<2.9,>=2.5 in /opt/continuum/anaconda/envs/anaconda201908_py37/lib/python3.7/site-packages (from requests<3.0.0dev,>=2.18.0->google-api-core<2.0.0dev,>=1.19.0->google-cloud-core<2.0dev,>=1.2.0->google-cloud-storage) (2.8)\n",
      "Requirement already satisfied: urllib3!=1.25.0,!=1.25.1,<1.26,>=1.21.1 in /opt/continuum/anaconda/envs/anaconda201908_py37/lib/python3.7/site-packages (from requests<3.0.0dev,>=2.18.0->google-api-core<2.0.0dev,>=1.19.0->google-cloud-core<2.0dev,>=1.2.0->google-cloud-storage) (1.24.2)\n",
      "Installing collected packages: cachetools, pyasn1, rsa, pyasn1-modules, google-auth, google-crc32c, google-resumable-media, protobuf, google-api-core, google-cloud-core, google-cloud-storage\n",
      "  Found existing installation: protobuf 3.9.2\n",
      "    Uninstalling protobuf-3.9.2:\n",
      "      Successfully uninstalled protobuf-3.9.2\n",
      "Successfully installed cachetools-4.1.1 google-api-core-1.22.1 google-auth-1.20.1 google-cloud-core-1.4.1 google-cloud-storage-1.30.0 google-crc32c-0.1.0 google-resumable-media-0.7.1 protobuf-3.13.0 pyasn1-0.4.8 pyasn1-modules-0.2.8 rsa-4.6\n",
      "/usr/bin/sh: warning: setlocale: LC_ALL: cannot change locale (en_US.UTF-8)\n",
      "/bin/sh: warning: setlocale: LC_ALL: cannot change locale (en_US.UTF-8)\n",
      "Collecting google-cloud-pubsub\n",
      "\u001b[?25l  Downloading https://files.pythonhosted.org/packages/1f/b3/dd83eca4cd1019d592e82595ea45d53f11e39db4ee99daa66ceb8a1b2d89/google_cloud_pubsub-1.7.0-py2.py3-none-any.whl (144kB)\n",
      "\u001b[K     |████████████████████████████████| 153kB 3.3MB/s \n",
      "\u001b[?25hRequirement already satisfied: google-api-core[grpc]!=1.17.*,!=1.18.*,!=1.19.*,>=1.14.0 in /opt/continuum/anaconda/envs/anaconda201908_py37/lib/python3.7/site-packages (from google-cloud-pubsub) (1.22.1)\n",
      "Collecting grpc-google-iam-v1<0.13dev,>=0.12.3 (from google-cloud-pubsub)\n",
      "  Downloading https://files.pythonhosted.org/packages/65/19/2060c8faa325fddc09aa67af98ffcb6813f39a0ad805679fa64815362b3a/grpc-google-iam-v1-0.12.3.tar.gz\n",
      "Requirement already satisfied: requests<3.0.0dev,>=2.18.0 in /opt/continuum/anaconda/envs/anaconda201908_py37/lib/python3.7/site-packages (from google-api-core[grpc]!=1.17.*,!=1.18.*,!=1.19.*,>=1.14.0->google-cloud-pubsub) (2.22.0)\n",
      "Requirement already satisfied: google-auth<2.0dev,>=1.19.1 in /opt/continuum/anaconda/envs/anaconda201908_py37/lib/python3.7/site-packages (from google-api-core[grpc]!=1.17.*,!=1.18.*,!=1.19.*,>=1.14.0->google-cloud-pubsub) (1.20.1)\n",
      "Requirement already satisfied: six>=1.10.0 in /opt/continuum/anaconda/envs/anaconda201908_py37/lib/python3.7/site-packages (from google-api-core[grpc]!=1.17.*,!=1.18.*,!=1.19.*,>=1.14.0->google-cloud-pubsub) (1.12.0)\n",
      "Requirement already satisfied: protobuf>=3.12.0 in /opt/continuum/anaconda/envs/anaconda201908_py37/lib/python3.7/site-packages (from google-api-core[grpc]!=1.17.*,!=1.18.*,!=1.19.*,>=1.14.0->google-cloud-pubsub) (3.13.0)\n",
      "Requirement already satisfied: pytz in /opt/continuum/anaconda/envs/anaconda201908_py37/lib/python3.7/site-packages (from google-api-core[grpc]!=1.17.*,!=1.18.*,!=1.19.*,>=1.14.0->google-cloud-pubsub) (2019.2)\n",
      "Requirement already satisfied: googleapis-common-protos<2.0dev,>=1.6.0 in /opt/continuum/anaconda/envs/anaconda201908_py37/lib/python3.7/site-packages (from google-api-core[grpc]!=1.17.*,!=1.18.*,!=1.19.*,>=1.14.0->google-cloud-pubsub) (1.51.0)\n",
      "Requirement already satisfied: setuptools>=34.0.0 in /opt/continuum/anaconda/envs/anaconda201908_py37/lib/python3.7/site-packages (from google-api-core[grpc]!=1.17.*,!=1.18.*,!=1.19.*,>=1.14.0->google-cloud-pubsub) (41.2.0)\n",
      "Collecting grpcio<2.0dev,>=1.29.0; extra == \"grpc\" (from google-api-core[grpc]!=1.17.*,!=1.18.*,!=1.19.*,>=1.14.0->google-cloud-pubsub)\n",
      "\u001b[?25l  Downloading https://files.pythonhosted.org/packages/25/6f/6d0bd5ace7d87a57b7b02608fab1317d8e585b6a827a59572ed261ca8833/grpcio-1.31.0-cp37-cp37m-manylinux2010_x86_64.whl (3.3MB)\n",
      "\u001b[K     |████████████████████████████████| 3.3MB 11.4MB/s \n",
      "\u001b[?25hRequirement already satisfied: certifi>=2017.4.17 in /opt/continuum/anaconda/envs/anaconda201908_py37/lib/python3.7/site-packages (from requests<3.0.0dev,>=2.18.0->google-api-core[grpc]!=1.17.*,!=1.18.*,!=1.19.*,>=1.14.0->google-cloud-pubsub) (2020.4.5.1)\n",
      "Requirement already satisfied: chardet<3.1.0,>=3.0.2 in /opt/continuum/anaconda/envs/anaconda201908_py37/lib/python3.7/site-packages (from requests<3.0.0dev,>=2.18.0->google-api-core[grpc]!=1.17.*,!=1.18.*,!=1.19.*,>=1.14.0->google-cloud-pubsub) (3.0.4)\n",
      "Requirement already satisfied: urllib3!=1.25.0,!=1.25.1,<1.26,>=1.21.1 in /opt/continuum/anaconda/envs/anaconda201908_py37/lib/python3.7/site-packages (from requests<3.0.0dev,>=2.18.0->google-api-core[grpc]!=1.17.*,!=1.18.*,!=1.19.*,>=1.14.0->google-cloud-pubsub) (1.24.2)\n",
      "Requirement already satisfied: idna<2.9,>=2.5 in /opt/continuum/anaconda/envs/anaconda201908_py37/lib/python3.7/site-packages (from requests<3.0.0dev,>=2.18.0->google-api-core[grpc]!=1.17.*,!=1.18.*,!=1.19.*,>=1.14.0->google-cloud-pubsub) (2.8)\n",
      "Requirement already satisfied: cachetools<5.0,>=2.0.0 in /opt/continuum/anaconda/envs/anaconda201908_py37/lib/python3.7/site-packages (from google-auth<2.0dev,>=1.19.1->google-api-core[grpc]!=1.17.*,!=1.18.*,!=1.19.*,>=1.14.0->google-cloud-pubsub) (4.1.1)\n",
      "Requirement already satisfied: rsa<5,>=3.1.4; python_version >= \"3.5\" in /opt/continuum/anaconda/envs/anaconda201908_py37/lib/python3.7/site-packages (from google-auth<2.0dev,>=1.19.1->google-api-core[grpc]!=1.17.*,!=1.18.*,!=1.19.*,>=1.14.0->google-cloud-pubsub) (4.6)\n",
      "Requirement already satisfied: pyasn1-modules>=0.2.1 in /opt/continuum/anaconda/envs/anaconda201908_py37/lib/python3.7/site-packages (from google-auth<2.0dev,>=1.19.1->google-api-core[grpc]!=1.17.*,!=1.18.*,!=1.19.*,>=1.14.0->google-cloud-pubsub) (0.2.8)\n",
      "Requirement already satisfied: pyasn1>=0.1.3 in /opt/continuum/anaconda/envs/anaconda201908_py37/lib/python3.7/site-packages (from rsa<5,>=3.1.4; python_version >= \"3.5\"->google-auth<2.0dev,>=1.19.1->google-api-core[grpc]!=1.17.*,!=1.18.*,!=1.19.*,>=1.14.0->google-cloud-pubsub) (0.4.8)\n",
      "Building wheels for collected packages: grpc-google-iam-v1\n",
      "  Building wheel for grpc-google-iam-v1 (setup.py) ... \u001b[?25ldone\n",
      "\u001b[?25h  Created wheel for grpc-google-iam-v1: filename=grpc_google_iam_v1-0.12.3-cp37-none-any.whl size=18500 sha256=bfc9b12548a77c03ff350791e8579c090e7fd7a57a3e447430900a9343a85622\n",
      "  Stored in directory: /opt/continuum/.cache/pip/wheels/de/3a/83/77a1e18e1a8757186df834b86ce6800120ac9c79cd8ca4091b\n",
      "Successfully built grpc-google-iam-v1\n",
      "Installing collected packages: grpcio, grpc-google-iam-v1, google-cloud-pubsub\n",
      "  Found existing installation: grpcio 1.16.1\n",
      "    Uninstalling grpcio-1.16.1:\n",
      "      Successfully uninstalled grpcio-1.16.1\n",
      "Successfully installed google-cloud-pubsub-1.7.0 grpc-google-iam-v1-0.12.3 grpcio-1.31.0\n",
      "/usr/bin/sh: warning: setlocale: LC_ALL: cannot change locale (en_US.UTF-8)\n",
      "/bin/sh: warning: setlocale: LC_ALL: cannot change locale (en_US.UTF-8)\n",
      "Collecting google-cloud-translate\n",
      "\u001b[?25l  Downloading https://files.pythonhosted.org/packages/44/76/d33b0bf1578dd43c8d6f3c211b06827acce0b53efe7a14e51f64d0b6fbcd/google_cloud_translate-3.0.1-py2.py3-none-any.whl (91kB)\n",
      "\u001b[K     |████████████████████████████████| 92kB 3.5MB/s \n",
      "\u001b[?25hRequirement already satisfied: google-api-core[grpc]<2.0.0dev,>=1.22.0 in /opt/continuum/anaconda/envs/anaconda201908_py37/lib/python3.7/site-packages (from google-cloud-translate) (1.22.1)\n",
      "Collecting proto-plus>=0.4.0 (from google-cloud-translate)\n",
      "  Downloading https://files.pythonhosted.org/packages/ad/3a/dcd11efb9828aed24fa00044d6c83c05a7de0efb0fbc0ffc466ff834b382/proto-plus-1.7.0.tar.gz\n",
      "Requirement already satisfied: google-cloud-core<2.0dev,>=1.1.0 in /opt/continuum/anaconda/envs/anaconda201908_py37/lib/python3.7/site-packages (from google-cloud-translate) (1.4.1)\n",
      "Collecting libcst>=0.2.5 (from google-cloud-translate)\n",
      "\u001b[?25l  Downloading https://files.pythonhosted.org/packages/8e/55/ca2c16e5cd0b4544818e2ca0fc9c16a06a5fe9a28c83eb61dbe3c6616921/libcst-0.3.9-py3-none-any.whl (496kB)\n",
      "\u001b[K     |████████████████████████████████| 501kB 7.5MB/s \n",
      "\u001b[?25hRequirement already satisfied: setuptools>=34.0.0 in /opt/continuum/anaconda/envs/anaconda201908_py37/lib/python3.7/site-packages (from google-api-core[grpc]<2.0.0dev,>=1.22.0->google-cloud-translate) (41.2.0)\n",
      "Requirement already satisfied: six>=1.10.0 in /opt/continuum/anaconda/envs/anaconda201908_py37/lib/python3.7/site-packages (from google-api-core[grpc]<2.0.0dev,>=1.22.0->google-cloud-translate) (1.12.0)\n",
      "Requirement already satisfied: pytz in /opt/continuum/anaconda/envs/anaconda201908_py37/lib/python3.7/site-packages (from google-api-core[grpc]<2.0.0dev,>=1.22.0->google-cloud-translate) (2019.2)\n",
      "Requirement already satisfied: requests<3.0.0dev,>=2.18.0 in /opt/continuum/anaconda/envs/anaconda201908_py37/lib/python3.7/site-packages (from google-api-core[grpc]<2.0.0dev,>=1.22.0->google-cloud-translate) (2.22.0)\n",
      "Requirement already satisfied: protobuf>=3.12.0 in /opt/continuum/anaconda/envs/anaconda201908_py37/lib/python3.7/site-packages (from google-api-core[grpc]<2.0.0dev,>=1.22.0->google-cloud-translate) (3.13.0)\n",
      "Requirement already satisfied: googleapis-common-protos<2.0dev,>=1.6.0 in /opt/continuum/anaconda/envs/anaconda201908_py37/lib/python3.7/site-packages (from google-api-core[grpc]<2.0.0dev,>=1.22.0->google-cloud-translate) (1.51.0)\n",
      "Requirement already satisfied: google-auth<2.0dev,>=1.19.1 in /opt/continuum/anaconda/envs/anaconda201908_py37/lib/python3.7/site-packages (from google-api-core[grpc]<2.0.0dev,>=1.22.0->google-cloud-translate) (1.20.1)\n",
      "Requirement already satisfied: grpcio<2.0dev,>=1.29.0; extra == \"grpc\" in /opt/continuum/anaconda/envs/anaconda201908_py37/lib/python3.7/site-packages (from google-api-core[grpc]<2.0.0dev,>=1.22.0->google-cloud-translate) (1.31.0)\n",
      "Collecting typing-inspect>=0.4.0 (from libcst>=0.2.5->google-cloud-translate)\n",
      "  Downloading https://files.pythonhosted.org/packages/42/1c/66402db44184904a2f14722d317a4da0b5c8c78acfc3faf74362566635c5/typing_inspect-0.6.0-py3-none-any.whl\n",
      "Collecting typing-extensions>=3.7.4.2 (from libcst>=0.2.5->google-cloud-translate)\n",
      "  Downloading https://files.pythonhosted.org/packages/0c/0e/3f026d0645d699e7320b59952146d56ad7c374e9cd72cd16e7c74e657a0f/typing_extensions-3.7.4.2-py3-none-any.whl\n",
      "Collecting pyyaml>=5.2 (from libcst>=0.2.5->google-cloud-translate)\n",
      "\u001b[?25l  Downloading https://files.pythonhosted.org/packages/64/c2/b80047c7ac2478f9501676c988a5411ed5572f35d1beff9cae07d321512c/PyYAML-5.3.1.tar.gz (269kB)\n",
      "\u001b[K     |████████████████████████████████| 276kB 10.7MB/s \n",
      "\u001b[?25hRequirement already satisfied: certifi>=2017.4.17 in /opt/continuum/anaconda/envs/anaconda201908_py37/lib/python3.7/site-packages (from requests<3.0.0dev,>=2.18.0->google-api-core[grpc]<2.0.0dev,>=1.22.0->google-cloud-translate) (2020.4.5.1)\n",
      "Requirement already satisfied: urllib3!=1.25.0,!=1.25.1,<1.26,>=1.21.1 in /opt/continuum/anaconda/envs/anaconda201908_py37/lib/python3.7/site-packages (from requests<3.0.0dev,>=2.18.0->google-api-core[grpc]<2.0.0dev,>=1.22.0->google-cloud-translate) (1.24.2)\n",
      "Requirement already satisfied: idna<2.9,>=2.5 in /opt/continuum/anaconda/envs/anaconda201908_py37/lib/python3.7/site-packages (from requests<3.0.0dev,>=2.18.0->google-api-core[grpc]<2.0.0dev,>=1.22.0->google-cloud-translate) (2.8)\n",
      "Requirement already satisfied: chardet<3.1.0,>=3.0.2 in /opt/continuum/anaconda/envs/anaconda201908_py37/lib/python3.7/site-packages (from requests<3.0.0dev,>=2.18.0->google-api-core[grpc]<2.0.0dev,>=1.22.0->google-cloud-translate) (3.0.4)\n",
      "Requirement already satisfied: pyasn1-modules>=0.2.1 in /opt/continuum/anaconda/envs/anaconda201908_py37/lib/python3.7/site-packages (from google-auth<2.0dev,>=1.19.1->google-api-core[grpc]<2.0.0dev,>=1.22.0->google-cloud-translate) (0.2.8)\n",
      "Requirement already satisfied: rsa<5,>=3.1.4; python_version >= \"3.5\" in /opt/continuum/anaconda/envs/anaconda201908_py37/lib/python3.7/site-packages (from google-auth<2.0dev,>=1.19.1->google-api-core[grpc]<2.0.0dev,>=1.22.0->google-cloud-translate) (4.6)\n",
      "Requirement already satisfied: cachetools<5.0,>=2.0.0 in /opt/continuum/anaconda/envs/anaconda201908_py37/lib/python3.7/site-packages (from google-auth<2.0dev,>=1.19.1->google-api-core[grpc]<2.0.0dev,>=1.22.0->google-cloud-translate) (4.1.1)\n",
      "Collecting mypy-extensions>=0.3.0 (from typing-inspect>=0.4.0->libcst>=0.2.5->google-cloud-translate)\n",
      "  Downloading https://files.pythonhosted.org/packages/5c/eb/975c7c080f3223a5cdaff09612f3a5221e4ba534f7039db34c35d95fa6a5/mypy_extensions-0.4.3-py2.py3-none-any.whl\n",
      "Requirement already satisfied: pyasn1<0.5.0,>=0.4.6 in /opt/continuum/anaconda/envs/anaconda201908_py37/lib/python3.7/site-packages (from pyasn1-modules>=0.2.1->google-auth<2.0dev,>=1.19.1->google-api-core[grpc]<2.0.0dev,>=1.22.0->google-cloud-translate) (0.4.8)\n",
      "Building wheels for collected packages: proto-plus, pyyaml\n",
      "  Building wheel for proto-plus (setup.py) ... \u001b[?25ldone\n",
      "\u001b[?25h  Created wheel for proto-plus: filename=proto_plus-1.7.0-cp37-none-any.whl size=35865 sha256=8c8892d18639aeed9075bfa45bd76eb2525c703911bf903cad31ac84ca274f4b\n",
      "  Stored in directory: /opt/continuum/.cache/pip/wheels/c1/99/11/599bde78c0a6b109767ece03efc0853547b157dc79dc1ea6e6\n",
      "  Building wheel for pyyaml (setup.py) ... \u001b[?25ldone\n",
      "\u001b[?25h  Created wheel for pyyaml: filename=PyYAML-5.3.1-cp37-cp37m-linux_x86_64.whl size=44620 sha256=5d1301f6182878b17b75b7b052f42bc0fc9ccadf3bcad280b2e34983f0733d73\n",
      "  Stored in directory: /opt/continuum/.cache/pip/wheels/a7/c1/ea/cf5bd31012e735dc1dfea3131a2d5eae7978b251083d6247bd\n",
      "Successfully built proto-plus pyyaml\n",
      "Installing collected packages: proto-plus, mypy-extensions, typing-extensions, typing-inspect, pyyaml, libcst, google-cloud-translate\n",
      "  Found existing installation: PyYAML 5.1.2\n",
      "\u001b[31mERROR: Cannot uninstall 'PyYAML'. It is a distutils installed project and thus we cannot accurately determine which files belong to it which would lead to only a partial uninstall.\u001b[0m\n",
      "/usr/bin/sh: warning: setlocale: LC_ALL: cannot change locale (en_US.UTF-8)\n",
      "/bin/sh: warning: setlocale: LC_ALL: cannot change locale (en_US.UTF-8)\n",
      "Collecting google-cloud-vision\n",
      "\u001b[?25l  Downloading https://files.pythonhosted.org/packages/0d/7f/e10d602c2dc3f749f1b78377a3357790f1da71b28e7da9e5bc20b3a9bd40/google_cloud_vision-1.0.0-py2.py3-none-any.whl (435kB)\n",
      "\u001b[K     |████████████████████████████████| 440kB 3.6MB/s \n",
      "\u001b[?25hRequirement already satisfied: google-api-core[grpc]<2.0.0dev,>=1.14.0 in /opt/continuum/anaconda/envs/anaconda201908_py37/lib/python3.7/site-packages (from google-cloud-vision) (1.22.1)\n",
      "Requirement already satisfied: requests<3.0.0dev,>=2.18.0 in /opt/continuum/anaconda/envs/anaconda201908_py37/lib/python3.7/site-packages (from google-api-core[grpc]<2.0.0dev,>=1.14.0->google-cloud-vision) (2.22.0)\n",
      "Requirement already satisfied: google-auth<2.0dev,>=1.19.1 in /opt/continuum/anaconda/envs/anaconda201908_py37/lib/python3.7/site-packages (from google-api-core[grpc]<2.0.0dev,>=1.14.0->google-cloud-vision) (1.20.1)\n",
      "Requirement already satisfied: protobuf>=3.12.0 in /opt/continuum/anaconda/envs/anaconda201908_py37/lib/python3.7/site-packages (from google-api-core[grpc]<2.0.0dev,>=1.14.0->google-cloud-vision) (3.13.0)\n",
      "Requirement already satisfied: setuptools>=34.0.0 in /opt/continuum/anaconda/envs/anaconda201908_py37/lib/python3.7/site-packages (from google-api-core[grpc]<2.0.0dev,>=1.14.0->google-cloud-vision) (41.2.0)\n",
      "Requirement already satisfied: pytz in /opt/continuum/anaconda/envs/anaconda201908_py37/lib/python3.7/site-packages (from google-api-core[grpc]<2.0.0dev,>=1.14.0->google-cloud-vision) (2019.2)\n",
      "Requirement already satisfied: googleapis-common-protos<2.0dev,>=1.6.0 in /opt/continuum/anaconda/envs/anaconda201908_py37/lib/python3.7/site-packages (from google-api-core[grpc]<2.0.0dev,>=1.14.0->google-cloud-vision) (1.51.0)\n",
      "Requirement already satisfied: six>=1.10.0 in /opt/continuum/anaconda/envs/anaconda201908_py37/lib/python3.7/site-packages (from google-api-core[grpc]<2.0.0dev,>=1.14.0->google-cloud-vision) (1.12.0)\n",
      "Requirement already satisfied: grpcio<2.0dev,>=1.29.0; extra == \"grpc\" in /opt/continuum/anaconda/envs/anaconda201908_py37/lib/python3.7/site-packages (from google-api-core[grpc]<2.0.0dev,>=1.14.0->google-cloud-vision) (1.31.0)\n",
      "Requirement already satisfied: urllib3!=1.25.0,!=1.25.1,<1.26,>=1.21.1 in /opt/continuum/anaconda/envs/anaconda201908_py37/lib/python3.7/site-packages (from requests<3.0.0dev,>=2.18.0->google-api-core[grpc]<2.0.0dev,>=1.14.0->google-cloud-vision) (1.24.2)\n",
      "Requirement already satisfied: chardet<3.1.0,>=3.0.2 in /opt/continuum/anaconda/envs/anaconda201908_py37/lib/python3.7/site-packages (from requests<3.0.0dev,>=2.18.0->google-api-core[grpc]<2.0.0dev,>=1.14.0->google-cloud-vision) (3.0.4)\n",
      "Requirement already satisfied: certifi>=2017.4.17 in /opt/continuum/anaconda/envs/anaconda201908_py37/lib/python3.7/site-packages (from requests<3.0.0dev,>=2.18.0->google-api-core[grpc]<2.0.0dev,>=1.14.0->google-cloud-vision) (2020.4.5.1)\n",
      "Requirement already satisfied: idna<2.9,>=2.5 in /opt/continuum/anaconda/envs/anaconda201908_py37/lib/python3.7/site-packages (from requests<3.0.0dev,>=2.18.0->google-api-core[grpc]<2.0.0dev,>=1.14.0->google-cloud-vision) (2.8)\n",
      "Requirement already satisfied: cachetools<5.0,>=2.0.0 in /opt/continuum/anaconda/envs/anaconda201908_py37/lib/python3.7/site-packages (from google-auth<2.0dev,>=1.19.1->google-api-core[grpc]<2.0.0dev,>=1.14.0->google-cloud-vision) (4.1.1)\n",
      "Requirement already satisfied: rsa<5,>=3.1.4; python_version >= \"3.5\" in /opt/continuum/anaconda/envs/anaconda201908_py37/lib/python3.7/site-packages (from google-auth<2.0dev,>=1.19.1->google-api-core[grpc]<2.0.0dev,>=1.14.0->google-cloud-vision) (4.6)\n",
      "Requirement already satisfied: pyasn1-modules>=0.2.1 in /opt/continuum/anaconda/envs/anaconda201908_py37/lib/python3.7/site-packages (from google-auth<2.0dev,>=1.19.1->google-api-core[grpc]<2.0.0dev,>=1.14.0->google-cloud-vision) (0.2.8)\n",
      "Requirement already satisfied: pyasn1>=0.1.3 in /opt/continuum/anaconda/envs/anaconda201908_py37/lib/python3.7/site-packages (from rsa<5,>=3.1.4; python_version >= \"3.5\"->google-auth<2.0dev,>=1.19.1->google-api-core[grpc]<2.0.0dev,>=1.14.0->google-cloud-vision) (0.4.8)\n",
      "Installing collected packages: google-cloud-vision\n",
      "Successfully installed google-cloud-vision-1.0.0\n",
      "/usr/bin/sh: warning: setlocale: LC_ALL: cannot change locale (en_US.UTF-8)\n",
      "/bin/sh: warning: setlocale: LC_ALL: cannot change locale (en_US.UTF-8)\n",
      "Collecting pdf2image\n",
      "  Downloading https://files.pythonhosted.org/packages/c6/62/bf2df0547cf4e216b329a9d39a7aa6c755f02071e63e17a4b76690ebfe20/pdf2image-1.13.1-py3-none-any.whl\n",
      "Requirement already satisfied: pillow in /opt/continuum/anaconda/envs/anaconda201908_py37/lib/python3.7/site-packages (from pdf2image) (6.1.0)\n",
      "Installing collected packages: pdf2image\n",
      "Successfully installed pdf2image-1.13.1\n",
      "/usr/bin/sh: warning: setlocale: LC_ALL: cannot change locale (en_US.UTF-8)\n",
      "/bin/sh: warning: setlocale: LC_ALL: cannot change locale (en_US.UTF-8)\n",
      "Collecting google-api-python-client\n",
      "\u001b[?25l  Downloading https://files.pythonhosted.org/packages/27/90/2f62cfb242ed19e6e76e96434543003990ebefed475c208d6f342d824931/google_api_python_client-1.10.0-py2.py3-none-any.whl (60kB)\n",
      "\u001b[K     |████████████████████████████████| 61kB 2.8MB/s \n",
      "\u001b[?25hRequirement already satisfied: google-auth>=1.16.0 in /opt/continuum/anaconda/envs/anaconda201908_py37/lib/python3.7/site-packages (from google-api-python-client) (1.20.1)\n",
      "Requirement already satisfied: six<2dev,>=1.6.1 in /opt/continuum/anaconda/envs/anaconda201908_py37/lib/python3.7/site-packages (from google-api-python-client) (1.12.0)\n",
      "Collecting google-auth-httplib2>=0.0.3 (from google-api-python-client)\n",
      "  Downloading https://files.pythonhosted.org/packages/bd/4e/992849016f8b0c27fb604aafd0a7a724db16128906197bd1245c6f18e6a1/google_auth_httplib2-0.0.4-py2.py3-none-any.whl\n",
      "Collecting httplib2<1dev,>=0.9.2 (from google-api-python-client)\n",
      "\u001b[?25l  Downloading https://files.pythonhosted.org/packages/b3/ad/d9d9331850ea5bd4f5cb8c650c0bfa119a4abd6b0ad7c45b6506bc979fc0/httplib2-0.18.1-py3-none-any.whl (95kB)\n",
      "\u001b[K     |████████████████████████████████| 102kB 9.2MB/s \n",
      "\u001b[?25hRequirement already satisfied: google-api-core<2dev,>=1.18.0 in /opt/continuum/anaconda/envs/anaconda201908_py37/lib/python3.7/site-packages (from google-api-python-client) (1.22.1)\n",
      "Collecting uritemplate<4dev,>=3.0.0 (from google-api-python-client)\n",
      "  Downloading https://files.pythonhosted.org/packages/bf/0c/60d82c077998feb631608dca3cc1fe19ac074e772bf0c24cf409b977b815/uritemplate-3.0.1-py2.py3-none-any.whl\n",
      "Requirement already satisfied: cachetools<5.0,>=2.0.0 in /opt/continuum/anaconda/envs/anaconda201908_py37/lib/python3.7/site-packages (from google-auth>=1.16.0->google-api-python-client) (4.1.1)\n",
      "Requirement already satisfied: rsa<5,>=3.1.4; python_version >= \"3.5\" in /opt/continuum/anaconda/envs/anaconda201908_py37/lib/python3.7/site-packages (from google-auth>=1.16.0->google-api-python-client) (4.6)\n",
      "Requirement already satisfied: setuptools>=40.3.0 in /opt/continuum/anaconda/envs/anaconda201908_py37/lib/python3.7/site-packages (from google-auth>=1.16.0->google-api-python-client) (41.2.0)\n",
      "Requirement already satisfied: pyasn1-modules>=0.2.1 in /opt/continuum/anaconda/envs/anaconda201908_py37/lib/python3.7/site-packages (from google-auth>=1.16.0->google-api-python-client) (0.2.8)\n",
      "Requirement already satisfied: pytz in /opt/continuum/anaconda/envs/anaconda201908_py37/lib/python3.7/site-packages (from google-api-core<2dev,>=1.18.0->google-api-python-client) (2019.2)\n",
      "Requirement already satisfied: requests<3.0.0dev,>=2.18.0 in /opt/continuum/anaconda/envs/anaconda201908_py37/lib/python3.7/site-packages (from google-api-core<2dev,>=1.18.0->google-api-python-client) (2.22.0)\n",
      "Requirement already satisfied: protobuf>=3.12.0 in /opt/continuum/anaconda/envs/anaconda201908_py37/lib/python3.7/site-packages (from google-api-core<2dev,>=1.18.0->google-api-python-client) (3.13.0)\n",
      "Requirement already satisfied: googleapis-common-protos<2.0dev,>=1.6.0 in /opt/continuum/anaconda/envs/anaconda201908_py37/lib/python3.7/site-packages (from google-api-core<2dev,>=1.18.0->google-api-python-client) (1.51.0)\n",
      "Requirement already satisfied: pyasn1>=0.1.3 in /opt/continuum/anaconda/envs/anaconda201908_py37/lib/python3.7/site-packages (from rsa<5,>=3.1.4; python_version >= \"3.5\"->google-auth>=1.16.0->google-api-python-client) (0.4.8)\n",
      "Requirement already satisfied: urllib3!=1.25.0,!=1.25.1,<1.26,>=1.21.1 in /opt/continuum/anaconda/envs/anaconda201908_py37/lib/python3.7/site-packages (from requests<3.0.0dev,>=2.18.0->google-api-core<2dev,>=1.18.0->google-api-python-client) (1.24.2)\n",
      "Requirement already satisfied: certifi>=2017.4.17 in /opt/continuum/anaconda/envs/anaconda201908_py37/lib/python3.7/site-packages (from requests<3.0.0dev,>=2.18.0->google-api-core<2dev,>=1.18.0->google-api-python-client) (2020.4.5.1)\n",
      "Requirement already satisfied: chardet<3.1.0,>=3.0.2 in /opt/continuum/anaconda/envs/anaconda201908_py37/lib/python3.7/site-packages (from requests<3.0.0dev,>=2.18.0->google-api-core<2dev,>=1.18.0->google-api-python-client) (3.0.4)\n",
      "Requirement already satisfied: idna<2.9,>=2.5 in /opt/continuum/anaconda/envs/anaconda201908_py37/lib/python3.7/site-packages (from requests<3.0.0dev,>=2.18.0->google-api-core<2dev,>=1.18.0->google-api-python-client) (2.8)\n",
      "Installing collected packages: httplib2, google-auth-httplib2, uritemplate, google-api-python-client\n",
      "Successfully installed google-api-python-client-1.10.0 google-auth-httplib2-0.0.4 httplib2-0.18.1 uritemplate-3.0.1\n"
     ]
    }
   ],
   "source": [
    "!pip install google-cloud\n",
    "!pip install google-cloud-storage\n",
    "!pip install google-cloud-pubsub\n",
    "!pip install google-cloud-translate\n",
    "!pip install google-cloud-vision\n",
    "!pip install pdf2image\n",
    "!pip install google-api-python-client"
   ]
  },
  {
   "cell_type": "markdown",
   "metadata": {},
   "source": [
    "<h2><a id=\"part_packages\">Packages</a></h2>"
   ]
  },
  {
   "cell_type": "code",
   "execution_count": null,
   "metadata": {},
   "outputs": [],
   "source": []
  },
  {
   "cell_type": "code",
   "execution_count": 2,
   "metadata": {},
   "outputs": [
    {
     "name": "stderr",
     "output_type": "stream",
     "text": [
      "0it [00:00, ?it/s]\n"
     ]
    }
   ],
   "source": [
    "from pdf2image import convert_from_bytes\n",
    "import glob\n",
    "from tqdm import tqdm\n",
    "import base64\n",
    "import json\n",
    "import os\n",
    "from io import BytesIO\n",
    "import numpy as np\n",
    "import io\n",
    "from PIL import Image\n",
    "from google.cloud import pubsub_v1\n",
    "from google.cloud import vision\n",
    "\n",
    "from google.oauth2 import service_account\n",
    "import googleapiclient.discovery\n",
    "\n",
    "tqdm().pandas()"
   ]
  },
  {
   "cell_type": "markdown",
   "metadata": {},
   "source": [
    "<h2><a id=\"part_0\">Parameters</a></h2>"
   ]
  },
  {
   "cell_type": "code",
   "execution_count": 3,
   "metadata": {},
   "outputs": [],
   "source": [
    "NAME_INPUT_FOLDER = \"PDF FOLDER NAME\"\n",
    "NAME_OUTPUT_FOLDER= \"RESULT TEXTS FOLDER\""
   ]
  },
  {
   "cell_type": "code",
   "execution_count": 4,
   "metadata": {},
   "outputs": [],
   "source": [
    "save_jpeg         = False\n",
    "per_page          = False\n",
    "per_document      = True    # stack 10 pages into one call \n",
    "multi_proc        = False    # use multiprocessing to call the OCR"
   ]
  },
  {
   "cell_type": "code",
   "execution_count": 5,
   "metadata": {},
   "outputs": [],
   "source": [
    "list_pdf = glob.glob(NAME_INPUT_FOLDER+\"/*.pdf\") # stock the name of the pdf files"
   ]
  },
  {
   "cell_type": "markdown",
   "metadata": {},
   "source": [
    "<h2><a id=\"part_1\">I - Convert PDF into JPEG</a></h2>"
   ]
  },
  {
   "cell_type": "code",
   "execution_count": 8,
   "metadata": {},
   "outputs": [],
   "source": [
    "if save_jpeg:\n",
    "    \n",
    "    for i in list_pdf:\n",
    "        # convert the pdf into jpeg\n",
    "        pages = convert_from_path(i, 500)\n",
    "        \n",
    "        for page in tqdm(enumerate(pages)):\n",
    "            # save each page \n",
    "            page[1].save(NAME_OUTPUT_FOLDER+\"/\"+i.split('/')[-1].split('.')[0]+'_'+str(page[0])+'.jpg', 'JPEG') # keep the name of the document and add increment="
   ]
  },
  {
   "cell_type": "markdown",
   "metadata": {},
   "source": [
    "<h2><a id=\"part_2\">II - Set up credentials</a></h2>"
   ]
  },
  {
   "cell_type": "markdown",
   "metadata": {},
   "source": [
    "The lines below show how to create credentials with a service account"
   ]
  },
  {
   "cell_type": "code",
   "execution_count": 9,
   "metadata": {},
   "outputs": [],
   "source": [
    "SCOPES = ['https://www.googleapis.com/auth/cloud-vision']\n",
    "SERVICE_ACCOUNT_FILE = \"PUT YOUR SERVICE ACCOUNT JSON FILE HERE\""
   ]
  },
  {
   "cell_type": "code",
   "execution_count": 10,
   "metadata": {},
   "outputs": [],
   "source": [
    "credentials = service_account.Credentials.from_service_account_file(\n",
    "        SERVICE_ACCOUNT_FILE, scopes=SCOPES)"
   ]
  },
  {
   "cell_type": "markdown",
   "metadata": {},
   "source": [
    "<h2><a id=\"part_3\">III - API Vision request</a></h2>"
   ]
  },
  {
   "cell_type": "markdown",
   "metadata": {},
   "source": [
    "<h3><a id=\"part_3_1\">Functions needed</a></h3>"
   ]
  },
  {
   "cell_type": "code",
   "execution_count": 11,
   "metadata": {},
   "outputs": [],
   "source": [
    "def detect_text_document(content, credentials):\n",
    "    \"\"\"\n",
    "    Function to call the API vision and return the text detected inside the image\n",
    "    @param content: (bytes) image in bytes \n",
    "    @param credentials: credentials of the service account to call the API \n",
    "    @return: the text detected inside the picture\n",
    "    \"\"\"\n",
    "    \n",
    "    client = vision.ImageAnnotatorClient(credentials=credentials)\n",
    "    #with io.open(uri, 'rb') as image_file:\n",
    "    #    content = image_file.read()\n",
    "    \n",
    "    # load the image in bytes \n",
    "    image = vision.types.Image(content=content)\n",
    "    # call the OCR and keep text annotation\n",
    "    response = client.text_detection(image=image)\n",
    "    \n",
    "    # The actual response for the first page of the input file.\n",
    "    breaks = vision.enums.TextAnnotation.DetectedBreak.BreakType\n",
    "    paragraphs = []\n",
    "    lines = []\n",
    "    # extract text by block of detection\n",
    "    for page in response.full_text_annotation.pages:\n",
    "        for block in page.blocks:\n",
    "            for paragraph in block.paragraphs:\n",
    "                para = \"\"\n",
    "                line = \"\"\n",
    "                for word in paragraph.words:\n",
    "                    for symbol in word.symbols:\n",
    "                        line += symbol.text\n",
    "                        if symbol.property.detected_break.type == breaks.SPACE:\n",
    "                            line += ' '\n",
    "                        if symbol.property.detected_break.type == breaks.EOL_SURE_SPACE:\n",
    "                            line += ' '\n",
    "                            lines.append(line)\n",
    "                            para += line\n",
    "                            line = ''\n",
    "                        if symbol.property.detected_break.type == breaks.LINE_BREAK:\n",
    "                            lines.append(line)\n",
    "                            para += line\n",
    "                            line = ''\n",
    "                paragraphs.append(para)\n",
    "\n",
    "    \n",
    "    return \"\\n\".join(paragraphs)"
   ]
  },
  {
   "cell_type": "code",
   "execution_count": 12,
   "metadata": {},
   "outputs": [],
   "source": [
    "def pil_grid(images, max_horiz=np.iinfo(int).max):\n",
    "    \n",
    "    n_images = len(images)\n",
    "    n_horiz = min(n_images, max_horiz)\n",
    "    h_sizes, v_sizes = [0] * n_horiz, [0] * (n_images // n_horiz)\n",
    "    for i, im in enumerate(images):\n",
    "        h, v = i % n_horiz, i // n_horiz\n",
    "        h_sizes[h] = max(h_sizes[h], im.size[0])\n",
    "        v_sizes[v] = max(v_sizes[v], im.size[1])\n",
    "    h_sizes, v_sizes = np.cumsum([0] + h_sizes), np.cumsum([0] + v_sizes)\n",
    "    im_grid = Image.new('RGB', (h_sizes[-1], v_sizes[-1]), color='white')\n",
    "    for i, im in enumerate(images):\n",
    "        im_grid.paste(im, (h_sizes[i % n_horiz], v_sizes[i // n_horiz]))\n",
    "    return im_grid"
   ]
  },
  {
   "cell_type": "code",
   "execution_count": 14,
   "metadata": {},
   "outputs": [],
   "source": [
    "def concat_file_ocr(path, cred=credentials):\n",
    "    '''\n",
    "    Function to concat 10 pages of the document and feed them to the OCR\n",
    "    @param path: (str) path of the pdf\n",
    "    @param cred: google credentials \n",
    "    '''\n",
    "    imgs = convert_from_bytes(open(path, 'rb').read(), fmt=\"jpeg\")\n",
    "    nb_pages = len(imgs)\n",
    "    nb_remaining_pages = nb_pages\n",
    "    ocr_step = 10\n",
    "    current_ocr_page_nb = 0\n",
    "    text = []\n",
    "    while nb_remaining_pages > 0:\n",
    "        if nb_remaining_pages > ocr_step:\n",
    "            ocr_range = range(current_ocr_page_nb, ocr_step + current_ocr_page_nb)\n",
    "            nb_remaining_pages -= ocr_step\n",
    "            current_ocr_page_nb += ocr_step\n",
    "        else:\n",
    "            ocr_range = range(current_ocr_page_nb, current_ocr_page_nb + nb_remaining_pages)\n",
    "            nb_remaining_pages = 0\n",
    "        # call ocr with range\n",
    "        im_grid = pil_grid(imgs[ocr_range.start:ocr_range.stop],1)\n",
    "        temp = BytesIO()\n",
    "        im_grid.save(temp, format='jpeg')\n",
    "        text.append(detect_text_document(temp.getvalue(), cred))\n",
    "    np.savetxt(NAME_OUTPUT_FOLDER+\"/\"+path.split('/')[-1].split('.')[0]+'.txt', text, fmt=\"%s\")"
   ]
  },
  {
   "cell_type": "markdown",
   "metadata": {},
   "source": [
    "<h3><a id=\"part_3_2\">Call OCR per page</a></h3>"
   ]
  },
  {
   "cell_type": "code",
   "execution_count": 15,
   "metadata": {},
   "outputs": [],
   "source": [
    "if per_page:\n",
    "    # call the API vision per page of the pdf\n",
    "    for i in tqdm(list_pdf):\n",
    "        # open the pdf and convert it into a PlImage format jpeg\n",
    "        call_ocr_save_txt(i, cred=credentials)"
   ]
  },
  {
   "cell_type": "code",
   "execution_count": 16,
   "metadata": {},
   "outputs": [],
   "source": [
    "def call_ocr_save_txt(path, cred=credentials):\n",
    "    '''\n",
    "    Function to feed the OCR with each page of the pdf convert into jpeg\n",
    "    @param path: (str) path of the pdf\n",
    "    @param cred: google credentials \n",
    "    '''\n",
    "    pages = convert_from_bytes(open(path, 'rb').read(), fmt=\"jpeg\") \n",
    "    text = []\n",
    "    # run on each page of the pdf \n",
    "    for page in pages:\n",
    "        # cast the jpeg into bytes \n",
    "        temp = BytesIO()\n",
    "        page.save(temp, format='jpeg')\n",
    "\n",
    "            # save the result of the OCR inside the variable text \n",
    "        text.append(detect_text_document(temp.getvalue(), cred))\n",
    "        # save the result into txt file \n",
    "    np.savetxt(NAME_OUTPUT_FILE+\"/\"+i.split('/')[1].split('.')[0]+'.txt', text, fmt=\"%s\")"
   ]
  },
  {
   "cell_type": "markdown",
   "metadata": {},
   "source": [
    "<h3><a id=\"part_3\">Call OCR per document (stack de 10 pages)</a></h3>"
   ]
  },
  {
   "cell_type": "code",
   "execution_count": 17,
   "metadata": {},
   "outputs": [],
   "source": [
    "if per_document:\n",
    "    # In order to save money when calling th API you could \n",
    "    # stack to 10 pages of the pdf in one call \n",
    "    for doc_pdf in tqdm(list_pdf):\n",
    "\n",
    "        # call the function which convert into jpeg, stack 10 images\n",
    "        # and call the API, save the output into txt file \n",
    "        concat_file_ocr(doc_pdf)"
   ]
  },
  {
   "cell_type": "markdown",
   "metadata": {},
   "source": [
    "<h3><a id=\"part_3\">Multi-processing</a></h3>"
   ]
  },
  {
   "cell_type": "code",
   "execution_count": 18,
   "metadata": {},
   "outputs": [],
   "source": [
    "if multi_proc:\n",
    "    nb_threads = mp.cpu_count()\n",
    "    print(f\"The number of available CPU is {nb_threads}\")\n",
    "    \n",
    "    if per_page:\n",
    "        pool = mp.Pool(processes=nb_threads)    # create threads corresponding to the number specified\n",
    "        result = pool.map(call_ocr_save_txt, list_pdf) # map the function with part of the list for each thread\n",
    "        \n",
    "    if per_document:\n",
    "        pool = mp.Pool(processes=nb_threads) \n",
    "        result = pool.map(concat_file_ocr, list_pdf)"
   ]
  },
  {
   "cell_type": "markdown",
   "metadata": {},
   "source": [
    "<h3>Dask</h3>"
   ]
  },
  {
   "cell_type": "code",
   "execution_count": null,
   "metadata": {},
   "outputs": [],
   "source": []
  },
  {
   "cell_type": "code",
   "execution_count": null,
   "metadata": {},
   "outputs": [],
   "source": []
  },
  {
   "cell_type": "code",
   "execution_count": null,
   "metadata": {},
   "outputs": [],
   "source": []
  }
 ],
 "metadata": {
  "kernelspec": {
   "display_name": "Python 3",
   "language": "python",
   "name": "python3"
  },
  "language_info": {
   "codemirror_mode": {
    "name": "ipython",
    "version": 3
   },
   "file_extension": ".py",
   "mimetype": "text/x-python",
   "name": "python",
   "nbconvert_exporter": "python",
   "pygments_lexer": "ipython3",
   "version": "3.8.2"
  }
 },
 "nbformat": 4,
 "nbformat_minor": 4
}
